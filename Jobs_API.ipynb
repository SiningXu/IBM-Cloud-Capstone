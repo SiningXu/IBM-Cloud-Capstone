{
    "cells": [
        {
            "metadata": {},
            "id": "a66c1692-9c84-41ec-a135-b417ef41344d",
            "cell_type": "markdown",
            "source": "<p style=\"text-align:center\">\n    <a href=\"https://skills.network/?utm_medium=Exinfluencer&utm_source=Exinfluencer&utm_content=000026UJ&utm_term=10006555&utm_id=NA-SkillsNetwork-Channel-SkillsNetworkCoursesIBMDA0321ENSkillsNetwork21426264-2022-01-01\" target=\"_blank\">\n    <img src=\"https://cf-courses-data.s3.us.cloud-object-storage.appdomain.cloud/assets/logos/SN_web_lightmode.png\" width=\"200\" alt=\"Skills Network Logo\"  />\n    </a>\n</p>\n"
        },
        {
            "metadata": {},
            "id": "6e786144-f1e4-45ee-b287-f2f4b87300d3",
            "cell_type": "markdown",
            "source": "# **JOBS API Implementation Using FLASK**\n"
        },
        {
            "metadata": {},
            "id": "aae78227-6f87-4090-80ab-49edba9c3003",
            "cell_type": "markdown",
            "source": "Estimated time needed: **45 to 60** minutes\n"
        },
        {
            "metadata": {},
            "id": "817156a7-4bab-46b8-9a67-55f3b0564c01",
            "cell_type": "markdown",
            "source": "## Objectives\n\nYou will be executing this code  so that the client application **Collecting Jobs API**  will be accessing this code executing on the server\n"
        },
        {
            "metadata": {},
            "id": "4ac527ce-f921-44e2-b729-28ed03634a8e",
            "cell_type": "code",
            "source": "!pip install flask",
            "execution_count": 1,
            "outputs": [
                {
                    "output_type": "stream",
                    "text": "Requirement already satisfied: flask in /opt/conda/envs/Python-3.9/lib/python3.9/site-packages (2.2.2)\nRequirement already satisfied: itsdangerous>=2.0 in /opt/conda/envs/Python-3.9/lib/python3.9/site-packages (from flask) (2.1.2)\nRequirement already satisfied: Jinja2>=3.0 in /opt/conda/envs/Python-3.9/lib/python3.9/site-packages (from flask) (3.0.2)\nRequirement already satisfied: importlib-metadata>=3.6.0 in /opt/conda/envs/Python-3.9/lib/python3.9/site-packages (from flask) (4.8.2)\nRequirement already satisfied: click>=8.0 in /opt/conda/envs/Python-3.9/lib/python3.9/site-packages (from flask) (8.0.4)\nRequirement already satisfied: Werkzeug>=2.2.2 in /opt/conda/envs/Python-3.9/lib/python3.9/site-packages (from flask) (2.2.2)\nRequirement already satisfied: zipp>=0.5 in /opt/conda/envs/Python-3.9/lib/python3.9/site-packages (from importlib-metadata>=3.6.0->flask) (3.6.0)\nRequirement already satisfied: MarkupSafe>=2.0 in /opt/conda/envs/Python-3.9/lib/python3.9/site-packages (from Jinja2>=3.0->flask) (2.1.1)\n",
                    "name": "stdout"
                }
            ]
        },
        {
            "metadata": {},
            "id": "0e5bba17-58e7-49a4-8040-0831e93466f5",
            "cell_type": "markdown",
            "source": "## Dataset Used in this Assignment\n\nThe dataset used in this lab comes from the following source: [https://www.kaggle.com/promptcloud/jobs-on-naukricom](https://www.kaggle.com/promptcloud/jobs-on-naukricom?utm_medium=Exinfluencer&utm_source=Exinfluencer&utm_content=000026UJ&utm_term=10006555&utm_id=NA-SkillsNetwork-Channel-SkillsNetworkCoursesIBMDA0321ENSkillsNetwork21426264-2022-01-01) under the under a **Public Domain license**.\n\n> Note: We are using a modified subset of that dataset for the lab, so to follow the lab instructions successfully please use the dataset provided with the lab, rather than the dataset from the original source.\n\nThe original dataset is a csv. We have converted the csv to json as per the requirement of the lab.\n"
        },
        {
            "metadata": {},
            "id": "c2eed468-b4cd-481a-a18e-1851e2fc7a4a",
            "cell_type": "code",
            "source": "!wget  https://cf-courses-data.s3.us.cloud-object-storage.appdomain.cloud/IBM-DA0321EN-SkillsNetwork/labs/module%201/Accessing%20Data%20Using%20APIs/jobs.json",
            "execution_count": 2,
            "outputs": [
                {
                    "output_type": "stream",
                    "text": "--2022-12-08 16:23:24--  https://cf-courses-data.s3.us.cloud-object-storage.appdomain.cloud/IBM-DA0321EN-SkillsNetwork/labs/module%201/Accessing%20Data%20Using%20APIs/jobs.json\nResolving cf-courses-data.s3.us.cloud-object-storage.appdomain.cloud (cf-courses-data.s3.us.cloud-object-storage.appdomain.cloud)... 198.23.119.245\nConnecting to cf-courses-data.s3.us.cloud-object-storage.appdomain.cloud (cf-courses-data.s3.us.cloud-object-storage.appdomain.cloud)|198.23.119.245|:443... connected.\nHTTP request sent, awaiting response... 200 OK\nLength: 12878382 (12M) [application/json]\nSaving to: \u2018jobs.json.2\u2019\n\njobs.json.2         100%[===================>]  12.28M  50.6MB/s    in 0.2s    \n\n2022-12-08 16:23:25 (50.6 MB/s) - \u2018jobs.json.2\u2019 saved [12878382/12878382]\n\n",
                    "name": "stdout"
                }
            ]
        },
        {
            "metadata": {},
            "id": "21697c9d",
            "cell_type": "code",
            "source": "import flask\nfrom flask import request, jsonify\nimport requests\nimport re\n\ndef get_data(key,value,current):\n    results = list()\n    pattern_dict = {\n        'C'      : '(C)',\n        'C++'    : '(C\\+\\+)',\n        'Java'   :'(Java)',\n        'C#'     : '(C\\#)',\n        'Python' :'(Python)',\n        'Scala' : '(Scala)',\n        'Oracle' : '(Oracle)',\n        'SQL Server': '(SQL Server)',\n        'MySQL Server' :'(MySQL Server)',\n        'PostgreSQL':'(PostgreSQL)',\n        'MongoDB'    : '(MongoDB)',\n        'JavaScript'    : '(JavaScript)',\n        'Los Angeles' :'(Los Angeles)',\n        'New York':'(New York)',\n        'San Francisco':'(San Francisco)',\n        'Washington DC':'(Washington DC)',\n        'Seattle':'(Seattle)',\n        'Austin':'(Austin)',\n        'Detroit':'(Detroit)',\n        \n        \n        \n        \n        \n    }\n    for rec in current:\n        print(rec[key])\n        print(type(rec[key]))\n        print(rec[key].find(value))\n        #if rec[key].find(value) != -1:\n        import re\n        #reex_str = \"\"\"(C)|(C\\+\\+)|(JavaScript)|(Java)|(C\\#)|(Python)|(Scala)|(Oracle)|(SQL Server)|(MySQL Server)|(PostgreSQL)|(MongoDB)\"\"\"\n        if re.search(pattern_dict[value],rec[key]) != None:\n            results.append(rec)\n    return results\n\napp = flask.Flask(__name__)\n\nimport json\ndata = None\nwith open('jobs.json',encoding='utf-8') as f:\n    # returns JSON object as\n    # a dictionary\n    data = json.load(f)\n    \n    \n\n@app.route('/', methods=['GET'])\ndef home():\n    \n    return '''<h1>Welcome to flask JOB search API</p>'''\n\n\n@app.route('/data/all', methods=['GET'])\ndef api_all():\n    return jsonify(data)\n\n\n@app.route('/data', methods=['GET'])\ndef api_id():\n    # Check if keys such as Job Title,KeySkills, Role Category and others  are provided as part of the URL.\n    #  Assign the keys to the corresponding variables..\n    # If no key is provided, display an error in the browser.\n    res = None\n    for req in request.args:\n        \n        if req == 'Job Title':\n            key = 'Job Title'\n        elif req == 'Job Experience Required' :\n            key='Job Experience Required'\n        elif req == 'Key Skills' :\n            key='Key Skills'\n            \n        elif req == 'Role Category' :\n            key='Role Category'\n        elif req == 'Location' :\n            key='Location'\n        \n        elif req == 'Functional Area' :\n            key='Functional Area'\n        \n        elif req == 'Industry' :\n            key='Industry'\n        elif req == 'Role' :\n            key='Role'\n        elif req==\"id\":\n             key=\"id\"\n        else:\n            pass\n    \n        value = request.args[key]\n        if (res==None):\n            res = get_data(key,value,data)\n        else:\n            res = get_data(key,value,res)\n\n    # Use the jsonify function from Flask to convert our list of\n    # Python dictionaries to the JSON format.\n    return jsonify(res)\n\napp.run()",
            "execution_count": null,
            "outputs": [
                {
                    "output_type": "stream",
                    "text": " * Serving Flask app '__main__'\n * Debug mode: off\n",
                    "name": "stdout"
                },
                {
                    "output_type": "stream",
                    "text": "\u001b[31m\u001b[1mWARNING: This is a development server. Do not use it in a production deployment. Use a production WSGI server instead.\u001b[0m\n * Running on http://127.0.0.1:5000\n\u001b[33mPress CTRL+C to quit\u001b[0m\n",
                    "name": "stderr"
                }
            ]
        },
        {
            "metadata": {},
            "id": "c3599fa2-05b9-4285-9699-08dc2f14c7f2",
            "cell_type": "markdown",
            "source": "## Authors\n"
        },
        {
            "metadata": {},
            "id": "b47c3a9c-437a-4067-a532-a7765443fbe7",
            "cell_type": "markdown",
            "source": "Lakshmi Holla\n"
        },
        {
            "metadata": {},
            "id": "5f42fdbf-c7b7-409f-b435-28d64d1607e3",
            "cell_type": "markdown",
            "source": "### Other Contributors\n"
        },
        {
            "metadata": {},
            "id": "c323fbe6-dc6a-4dbc-9569-74c9041ea88c",
            "cell_type": "markdown",
            "source": "Malika Singla\\\nAyushi Jain\n"
        },
        {
            "metadata": {},
            "id": "1ffa5fb5-70ab-4f23-aee6-09cb260c1475",
            "cell_type": "markdown",
            "source": "## Changelog\n"
        },
        {
            "metadata": {},
            "id": "c9348598-d30b-4359-b163-8177b50bcb3a",
            "cell_type": "markdown",
            "source": "| Date (YYYY-MM-DD) | Version | Changed By    | Change Description      |\n| ----------------- | ------- | ------------- | ----------------------- |\n| 2022-01-03        | 0.1     | Lakshmi Holla | Created Initial Version |\n"
        },
        {
            "metadata": {},
            "id": "3f233ece-5867-4880-a325-d198f567a5b0",
            "cell_type": "markdown",
            "source": "Copyright \u00a9 2022 IBM Corporation. This notebook and its source code are released under the terms of the [MIT License](https://cognitiveclass.ai/mit-license?utm_medium=Exinfluencer&utm_source=Exinfluencer&utm_content=000026UJ&utm_term=10006555&utm_id=NA-SkillsNetwork-Channel-SkillsNetworkCoursesIBMDA0321ENSkillsNetwork21426264-2021-01-01&cm_mmc=Email_Newsletter-\\_-Developer_Ed%2BTech-\\_-WW_WW-\\_-SkillsNetwork-Courses-IBM-DA0321EN-SkillsNetwork-21426264&cm_mmca1=000026UJ&cm_mmca2=10006555&cm_mmca3=M12345678&cvosrc=email.Newsletter.M12345678&cvo_campaign=000026UJ).\n"
        }
    ],
    "metadata": {
        "kernelspec": {
            "name": "python3",
            "display_name": "Python 3.9",
            "language": "python"
        },
        "language_info": {
            "name": "python",
            "version": "3.9.13",
            "mimetype": "text/x-python",
            "codemirror_mode": {
                "name": "ipython",
                "version": 3
            },
            "pygments_lexer": "ipython3",
            "nbconvert_exporter": "python",
            "file_extension": ".py"
        }
    },
    "nbformat": 4,
    "nbformat_minor": 5
}